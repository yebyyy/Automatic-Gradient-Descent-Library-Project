{
  "nbformat": 4,
  "nbformat_minor": 0,
  "metadata": {
    "colab": {
      "provenance": [],
      "authorship_tag": "ABX9TyMXys2WSsPS7Hxbk0XaXITf",
      "include_colab_link": true
    },
    "kernelspec": {
      "name": "python3",
      "display_name": "Python 3"
    },
    "language_info": {
      "name": "python"
    }
  },
  "cells": [
    {
      "cell_type": "markdown",
      "metadata": {
        "id": "view-in-github",
        "colab_type": "text"
      },
      "source": [
        "<a href=\"https://colab.research.google.com/github/yebyyy/Automatic-Gradient-Descent-Library-Project/blob/main/MLP_%2B_RNN.ipynb\" target=\"_parent\"><img src=\"https://colab.research.google.com/assets/colab-badge.svg\" alt=\"Open In Colab\"/></a>"
      ]
    },
    {
      "cell_type": "code",
      "execution_count": 1,
      "metadata": {
        "id": "Fv2iTRLcsdBQ"
      },
      "outputs": [],
      "source": [
        "import torch\n",
        "import torch.nn.functional as F\n",
        "import torch.nn as nn\n",
        "import matplotlib.pyplot as plt\n",
        "%matplotlib inline"
      ]
    },
    {
      "cell_type": "code",
      "source": [
        "words = open(\"names.txt\", \"r\").read().splitlines()\n",
        "words[:8]"
      ],
      "metadata": {
        "colab": {
          "base_uri": "https://localhost:8080/"
        },
        "id": "kekGiiDDwF11",
        "outputId": "9522ad50-da96-4b84-e91d-f766442277e5"
      },
      "execution_count": 2,
      "outputs": [
        {
          "output_type": "execute_result",
          "data": {
            "text/plain": [
              "['emma', 'olivia', 'ava', 'isabella', 'sophia', 'charlotte', 'mia', 'amelia']"
            ]
          },
          "metadata": {},
          "execution_count": 2
        }
      ]
    },
    {
      "cell_type": "markdown",
      "source": [
        "### Build the vocabulary"
      ],
      "metadata": {
        "id": "Dw2b11l1DIFe"
      }
    },
    {
      "cell_type": "code",
      "source": [
        "chars = sorted(list(set(''.join(words))))\n",
        "stringToInt = {s:i+1 for i,s in enumerate(chars)}\n",
        "stringToInt['.'] = 0\n",
        "intToString = {i:s for s,i in stringToInt.items()}\n",
        "vocab_size = len(intToString)\n",
        "print(intToString)\n",
        "print(vocab_size)"
      ],
      "metadata": {
        "colab": {
          "base_uri": "https://localhost:8080/"
        },
        "id": "Ccorp6r5CrpU",
        "outputId": "e81b19ad-d90a-49fe-f1cb-1bd1efd532e2"
      },
      "execution_count": 3,
      "outputs": [
        {
          "output_type": "stream",
          "name": "stdout",
          "text": [
            "{1: 'a', 2: 'b', 3: 'c', 4: 'd', 5: 'e', 6: 'f', 7: 'g', 8: 'h', 9: 'i', 10: 'j', 11: 'k', 12: 'l', 13: 'm', 14: 'n', 15: 'o', 16: 'p', 17: 'q', 18: 'r', 19: 's', 20: 't', 21: 'u', 22: 'v', 23: 'w', 24: 'x', 25: 'y', 26: 'z', 0: '.'}\n",
            "27\n"
          ]
        }
      ]
    },
    {
      "cell_type": "markdown",
      "source": [
        "### Build the dataset"
      ],
      "metadata": {
        "id": "XiV7hEt1DKeG"
      }
    },
    {
      "cell_type": "code",
      "source": [
        "import random"
      ],
      "metadata": {
        "id": "P1BVCEkADPXz"
      },
      "execution_count": 4,
      "outputs": []
    },
    {
      "cell_type": "code",
      "source": [
        "# build the dataset\n",
        "block_size = 3 # context length: how many characters do we take to predict the next one?\n",
        "\n",
        "def build_dataset(words):\n",
        "  X, Y = [], []\n",
        "\n",
        "  for w in words:\n",
        "    context = [0] * block_size\n",
        "    for ch in w + '.':\n",
        "      ix = stringToInt[ch]\n",
        "      X.append(context)\n",
        "      Y.append(ix)\n",
        "      context = context[1:] + [ix] # crop and append\n",
        "\n",
        "  X = torch.tensor(X)\n",
        "  Y = torch.tensor(Y)\n",
        "  print(X.shape, Y.shape)\n",
        "  return X, Y"
      ],
      "metadata": {
        "id": "pSIBRxZPCyHz"
      },
      "execution_count": 5,
      "outputs": []
    },
    {
      "cell_type": "code",
      "source": [
        "random.seed(42)\n",
        "random.shuffle(words)\n",
        "n1 = int(0.8*len(words))\n",
        "n2 = int(0.9*len(words))\n",
        "\n",
        "Xtr,  Ytr  = build_dataset(words[:n1])     # 80%\n",
        "Xval, Yval = build_dataset(words[n1:n2])   # 10%\n",
        "Xte,  Yte  = build_dataset(words[n2:])     # 10%"
      ],
      "metadata": {
        "colab": {
          "base_uri": "https://localhost:8080/"
        },
        "id": "XeeqnWNzDR-3",
        "outputId": "ad6c2054-b600-41f8-aab9-bcd679261492"
      },
      "execution_count": 6,
      "outputs": [
        {
          "output_type": "stream",
          "name": "stdout",
          "text": [
            "torch.Size([182625, 3]) torch.Size([182625])\n",
            "torch.Size([22655, 3]) torch.Size([22655])\n",
            "torch.Size([22866, 3]) torch.Size([22866])\n"
          ]
        }
      ]
    },
    {
      "cell_type": "markdown",
      "source": [
        "### MLP Revisited"
      ],
      "metadata": {
        "id": "Ectn76ThE9tz"
      }
    },
    {
      "cell_type": "code",
      "source": [
        "n_embed = 10  # the dimensionality of the character embedding vectors\n",
        "n_hidden = 200  # the number of neurons in the hidden layer of the MLP\n",
        "\n",
        "g = torch.Generator().manual_seed(2147483647) # for reproducibility\n",
        "C = torch.randn((vocab_size, n_embed), generator=g)\n",
        "W1 = torch.randn((n_embed * block_size, n_hidden), generator=g)  # remember that we need to time block size\n",
        "b1 = torch.randn(n_hidden, generator=g)\n",
        "W2 = torch.randn((n_hidden, vocab_size), generator=g)\n",
        "b2 = torch.randn(vocab_size, generator=g)\n",
        "\n",
        "parameters = [C, W1, b1, W2, b2]"
      ],
      "metadata": {
        "id": "H3IXTnrWDT-s"
      },
      "execution_count": 7,
      "outputs": []
    },
    {
      "cell_type": "code",
      "source": [
        "sum(p.nelement() for p in parameters)"
      ],
      "metadata": {
        "colab": {
          "base_uri": "https://localhost:8080/"
        },
        "id": "UG1E9M2UHAFH",
        "outputId": "3780a1f1-75d6-43b8-ec44-0bce697f3f86"
      },
      "execution_count": 8,
      "outputs": [
        {
          "output_type": "execute_result",
          "data": {
            "text/plain": [
              "11897"
            ]
          },
          "metadata": {},
          "execution_count": 8
        }
      ]
    },
    {
      "cell_type": "code",
      "source": [
        "for p in parameters:\n",
        "  p.requires_grad = True"
      ],
      "metadata": {
        "id": "sEIogUVsHHTZ"
      },
      "execution_count": 9,
      "outputs": []
    },
    {
      "cell_type": "code",
      "source": [
        "# same optimization as last time\n",
        "max_steps = 200000\n",
        "batch_size = 32\n",
        "lossi = []\n",
        "\n",
        "for i in range(max_steps):\n",
        "  # minibatch\n",
        "  index = torch.randint(0,Xtr.shape[0], (batch_size, ), generator=g)\n",
        "  Xb, Yb = Xtr[index], Ytr[index]\n",
        "\n",
        "  # forward pass\n",
        "  emb = C[Xb]\n",
        "  embcat = emb.view(emb.shape[0], -1)\n",
        "  h = torch.tanh(embcat @ W1 + b1)\n",
        "  logits = h @ W2 + b2\n",
        "  loss = F.cross_entropy(logits, Yb)\n",
        "\n",
        "  # backward pass\n",
        "  for p in parameters:\n",
        "    p.grad = None\n",
        "  loss.backward()\n",
        "\n",
        "  # update\n",
        "  lr = 0.1 if i < 100000 else 0.01\n",
        "  for p in parameters:\n",
        "    p.data += -lr * p.grad\n",
        "\n",
        "  # track stats\n",
        "  if i % 10000 == 0:\n",
        "    print(f\"{i: 7d}/{max_steps: 7d} : {loss.item():.4f}\")\n",
        "  lossi.append(loss.log10().item())"
      ],
      "metadata": {
        "colab": {
          "base_uri": "https://localhost:8080/"
        },
        "id": "MdULPMA_HXCt",
        "outputId": "f771d879-b86a-4e87-9f4d-1db103381762"
      },
      "execution_count": 10,
      "outputs": [
        {
          "output_type": "stream",
          "name": "stdout",
          "text": [
            "      0/ 200000 : 27.8817\n",
            "  10000/ 200000 : 2.9415\n",
            "  20000/ 200000 : 2.5069\n",
            "  30000/ 200000 : 2.7998\n",
            "  40000/ 200000 : 2.0261\n",
            "  50000/ 200000 : 2.5863\n",
            "  60000/ 200000 : 2.3420\n",
            "  70000/ 200000 : 2.0952\n",
            "  80000/ 200000 : 2.3454\n",
            "  90000/ 200000 : 2.2365\n",
            " 100000/ 200000 : 2.1080\n",
            " 110000/ 200000 : 2.3831\n",
            " 120000/ 200000 : 1.9898\n",
            " 130000/ 200000 : 2.4591\n",
            " 140000/ 200000 : 2.1910\n",
            " 150000/ 200000 : 2.1606\n",
            " 160000/ 200000 : 2.1811\n",
            " 170000/ 200000 : 1.7997\n",
            " 180000/ 200000 : 2.0962\n",
            " 190000/ 200000 : 1.8052\n"
          ]
        }
      ]
    },
    {
      "cell_type": "code",
      "source": [
        "plt.plot(lossi)"
      ],
      "metadata": {
        "colab": {
          "base_uri": "https://localhost:8080/",
          "height": 445
        },
        "id": "1VmeCszybJOA",
        "outputId": "71c134f1-e76e-46ce-e72a-57a8a90d9269"
      },
      "execution_count": 11,
      "outputs": [
        {
          "output_type": "execute_result",
          "data": {
            "text/plain": [
              "[<matplotlib.lines.Line2D at 0x7e2af80e74c0>]"
            ]
          },
          "metadata": {},
          "execution_count": 11
        },
        {
          "output_type": "display_data",
          "data": {
            "text/plain": [
              "<Figure size 640x480 with 1 Axes>"
            ],
            "image/png": "[encoded data removed]"
          },
          "metadata": {}
        }
      ]
    },
    {
      "cell_type": "code",
      "source": [
        "@torch.no_grad()\n",
        "def split_loss(split):\n",
        "  x, y = {\n",
        "      'train': (Xtr, Ytr),\n",
        "      'val': (Xval, Yval),\n",
        "      'test': (Xte, Yte)\n",
        "  }[split]\n",
        "  embed = C[x]\n",
        "  embedcat = embed.view(embed.shape[0], -1)\n",
        "  h = torch.tanh(embedcat @ W1 + b1)\n",
        "  logits = h @ W2 + b2\n",
        "  loss = F.cross_entropy(logits, y)\n",
        "  print(split, loss.item())"
      ],
      "metadata": {
        "id": "YK7VuF5xbLJ-"
      },
      "execution_count": 14,
      "outputs": []
    },
    {
      "cell_type": "code",
      "source": [
        "split_loss(\"train\")"
      ],
      "metadata": {
        "colab": {
          "base_uri": "https://localhost:8080/"
        },
        "id": "3B-gReoZek08",
        "outputId": "941e341f-dc8f-47da-8844-5b565a96b39e"
      },
      "execution_count": 15,
      "outputs": [
        {
          "output_type": "stream",
          "name": "stdout",
          "text": [
            "train 2.127678871154785\n"
          ]
        }
      ]
    },
    {
      "cell_type": "code",
      "source": [
        "split_loss(\"val\")"
      ],
      "metadata": {
        "colab": {
          "base_uri": "https://localhost:8080/"
        },
        "id": "1-ICtyA6enkg",
        "outputId": "79ef1135-1f57-45b7-915c-75b027c1054e"
      },
      "execution_count": 16,
      "outputs": [
        {
          "output_type": "stream",
          "name": "stdout",
          "text": [
            "val 2.1750576496124268\n"
          ]
        }
      ]
    },
    {
      "cell_type": "code",
      "source": [
        "g = torch.Generator().manual_seed(2147483647 + 10) # for reproducibility\n",
        "for _ in range(20):\n",
        "  out = []\n",
        "  context = [0] * block_size\n",
        "  while True:\n",
        "    embed = C[torch.tensor([context])]\n",
        "    embedcat = embed.view(1, -1)\n",
        "    h = torch.tanh(embedcat @ W1 + b1)\n",
        "    logits = h @ W2 + b2\n",
        "    probs = F.softmax(logits, dim=1)\n",
        "    index = torch.multinomial(probs, num_samples=1, replacement=True, generator=g).item()\n",
        "    context = context[1:] + [index]\n",
        "    out.append(index)\n",
        "    if index == 0:\n",
        "      break\n",
        "  print(''.join(intToString[i] for i in out))"
      ],
      "metadata": {
        "colab": {
          "base_uri": "https://localhost:8080/"
        },
        "id": "a312nSEoetNR",
        "outputId": "728f5fa4-5862-40c1-a659-4721bc74ec2f"
      },
      "execution_count": 24,
      "outputs": [
        {
          "output_type": "stream",
          "name": "stdout",
          "text": [
            "mora.\n",
            "mayah.\n",
            "seel.\n",
            "nehayla.\n",
            "remyra.\n",
            "endrael.\n",
            "adeer.\n",
            "melin.\n",
            "shy.\n",
            "jen.\n",
            "ede.\n",
            "seananaraelyn.\n",
            "malya.\n",
            "cayshubergiaghan.\n",
            "trickontelionnie.\n",
            "cayus.\n",
            "mace.\n",
            "ryyah.\n",
            "fael.\n",
            "youe.\n"
          ]
        }
      ]
    },
    {
      "cell_type": "code",
      "source": [],
      "metadata": {
        "id": "KhnBpF87ldO9"
      },
      "execution_count": null,
      "outputs": []
    }
  ]
}